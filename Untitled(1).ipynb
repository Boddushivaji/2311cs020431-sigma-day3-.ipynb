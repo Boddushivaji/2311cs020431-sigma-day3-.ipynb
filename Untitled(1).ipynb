{
 "cells": [
  {
   "cell_type": "markdown",
   "id": "0ec06025-788a-4ab2-9235-6b085fa123e5",
   "metadata": {},
   "source": [
    "##if condition1:\n",
    "   ##task1 block of code\n",
    "##elif condition2:\n",
    "   ##task2 block of code\n",
    "##elif condition3:\n",
    "   ##task3 block of code\n",
    "##else:\n",
    "   ##tak4 block of code\n"
   ]
  },
  {
   "cell_type": "code",
   "execution_count": 2,
   "id": "b7f71513-dd76-4382-ada4-ae1c2fe9c05b",
   "metadata": {},
   "outputs": [
    {
     "name": "stdout",
     "output_type": "stream",
     "text": [
      "Odd\n"
     ]
    }
   ],
   "source": [
    "x = 9\n",
    "if x%2==0:\n",
    "    print(\"Even\")\n",
    "else:\n",
    "    print(\"Odd\")"
   ]
  },
  {
   "cell_type": "code",
   "execution_count": 8,
   "id": "619127ae-c3d9-4059-b24a-1e8e575860c6",
   "metadata": {},
   "outputs": [
    {
     "data": {
      "text/plain": [
       "'india123'"
      ]
     },
     "execution_count": 8,
     "metadata": {},
     "output_type": "execute_result"
    }
   ],
   "source": [
    "y='india123'\n",
    "y"
   ]
  },
  {
   "cell_type": "code",
   "execution_count": 10,
   "id": "eddc016c-141f-4cac-9328-bc24be6e04dc",
   "metadata": {},
   "outputs": [
    {
     "data": {
      "text/plain": [
       "False"
      ]
     },
     "execution_count": 10,
     "metadata": {},
     "output_type": "execute_result"
    }
   ],
   "source": [
    "y.isalpha()\n"
   ]
  },
  {
   "cell_type": "code",
   "execution_count": 18,
   "id": "30a28369-e636-4ce4-9a9d-e92425842518",
   "metadata": {},
   "outputs": [],
   "source": [
    "name='Shiva'"
   ]
  },
  {
   "cell_type": "code",
   "execution_count": 20,
   "id": "c406b978-06bc-4d59-988e-c55120438341",
   "metadata": {},
   "outputs": [
    {
     "name": "stdout",
     "output_type": "stream",
     "text": [
      "Accept\n"
     ]
    }
   ],
   "source": [
    "if name.isalpha()==True:\n",
    "    print('Accept')\n",
    "else:\n",
    "    print('Name should not contain digits and symbols')"
   ]
  },
  {
   "cell_type": "code",
   "execution_count": 22,
   "id": "c472b762-979e-40f2-a45a-9eba84f1563e",
   "metadata": {},
   "outputs": [
    {
     "data": {
      "text/plain": [
       "True"
      ]
     },
     "execution_count": 22,
     "metadata": {},
     "output_type": "execute_result"
    }
   ],
   "source": [
    "name.isalpha()"
   ]
  },
  {
   "cell_type": "code",
   "execution_count": 24,
   "id": "0f4b7b49-7c05-4113-acb7-f83f548e4d1c",
   "metadata": {},
   "outputs": [
    {
     "data": {
      "text/plain": [
       "'shiva'"
      ]
     },
     "execution_count": 24,
     "metadata": {},
     "output_type": "execute_result"
    }
   ],
   "source": [
    "name.lower()"
   ]
  },
  {
   "cell_type": "code",
   "execution_count": 26,
   "id": "73538094-8cdf-4d4e-ba0f-0f912bdaac85",
   "metadata": {},
   "outputs": [
    {
     "data": {
      "text/plain": [
       "'SHIVA'"
      ]
     },
     "execution_count": 26,
     "metadata": {},
     "output_type": "execute_result"
    }
   ],
   "source": [
    "name.upper()"
   ]
  },
  {
   "cell_type": "code",
   "execution_count": 35,
   "id": "1d7f12da-f759-4139-a1f7-30a5a7ad6004",
   "metadata": {},
   "outputs": [
    {
     "data": {
      "text/plain": [
       "'Telanaga'"
      ]
     },
     "execution_count": 35,
     "metadata": {},
     "output_type": "execute_result"
    }
   ],
   "source": [
    "x='Telanaga'\n",
    "x"
   ]
  },
  {
   "cell_type": "code",
   "execution_count": 39,
   "id": "112a08bd-6c18-4cab-9e7a-9909887d009c",
   "metadata": {},
   "outputs": [],
   "source": [
    "x='mumbai'\n"
   ]
  },
  {
   "cell_type": "code",
   "execution_count": 69,
   "id": "09e588c3-ae58-41f0-b24b-b4c55f9ab8f5",
   "metadata": {},
   "outputs": [
    {
     "name": "stdout",
     "output_type": "stream",
     "text": [
      "True\n"
     ]
    }
   ],
   "source": [
    "x='Maharastra'\n",
    "if x.startswith('M'):\n",
    "    print(\"True\");\n",
    "else:\n",
    "    print (\"False\");"
   ]
  },
  {
   "cell_type": "code",
   "execution_count": 71,
   "id": "8cef1df8-b04e-4fd9-a7d1-5c92e9104cb6",
   "metadata": {},
   "outputs": [
    {
     "data": {
      "text/plain": [
       "False"
      ]
     },
     "execution_count": 71,
     "metadata": {},
     "output_type": "execute_result"
    }
   ],
   "source": [
    "x.lower()=='m'"
   ]
  },
  {
   "cell_type": "code",
   "execution_count": 89,
   "id": "cb6d2a97-9d02-423d-9308-4b852c86e353",
   "metadata": {},
   "outputs": [
    {
     "name": "stdout",
     "output_type": "stream",
     "text": [
      "Yes\n"
     ]
    }
   ],
   "source": [
    "x='llsingapore'\n",
    "if x[0].lower()=='m' or x.lower()=='s' or x.lowe()=='h':\n",
    "    print('Yes')\n",
    "else:\n",
    "    ('No')"
   ]
  },
  {
   "cell_type": "code",
   "execution_count": null,
   "id": "33a2a7e6-c8d1-429f-9437-b71b7d1215ba",
   "metadata": {},
   "outputs": [],
   "source": [
    "x='singapore'\n",
    "if x[0"
   ]
  }
 ],
 "metadata": {
  "kernelspec": {
   "display_name": "Python [conda env:base] *",
   "language": "python",
   "name": "conda-base-py"
  },
  "language_info": {
   "codemirror_mode": {
    "name": "ipython",
    "version": 3
   },
   "file_extension": ".py",
   "mimetype": "text/x-python",
   "name": "python",
   "nbconvert_exporter": "python",
   "pygments_lexer": "ipython3",
   "version": "3.12.7"
  }
 },
 "nbformat": 4,
 "nbformat_minor": 5
}
