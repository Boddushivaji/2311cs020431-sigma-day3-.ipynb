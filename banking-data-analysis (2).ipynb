{
 "cells": [
  {
   "cell_type": "code",
   "execution_count": 2,
   "id": "d6bb5fda-295b-4c11-97b0-e3a54d1e68b6",
   "metadata": {},
   "outputs": [
    {
     "name": "stdout",
     "output_type": "stream",
     "text": [
      "First 5 rows of the dataset:\n",
      "         Date       Account_Type    Branch Transaction_Type  \\\n",
      "0  2023-01-19      Fixed Deposit   Central     Loan Payment   \n",
      "1  2023-01-16            Current    Uptown       Withdrawal   \n",
      "2  2023-01-10            Current    Uptown     Loan Payment   \n",
      "3  2023-01-18            Savings    Uptown     Loan Payment   \n",
      "4  2023-01-14  Recurring Deposit  Suburban     Loan Payment   \n",
      "\n",
      "   Transaction_Amount  Account_Balance  \n",
      "0              985.51          6839.59  \n",
      "1              641.43          8908.39  \n",
      "2             3363.85         12428.67  \n",
      "3             1914.60          5776.63  \n",
      "4             2788.57          4779.04  \n",
      "\n",
      "Basic statistics for numerical columns:\n",
      "       Transaction_Amount  Account_Balance\n",
      "count           20.000000        20.000000\n",
      "mean          2705.829500      7967.766500\n",
      "std           1429.829787      2770.248821\n",
      "min            641.430000      2592.160000\n",
      "25%           1482.085000      6460.127500\n",
      "50%           2567.645000      7905.275000\n",
      "75%           4121.525000      9127.702500\n",
      "max           4683.640000     12836.510000\n",
      "\n",
      "Missing values in the dataset:\n",
      "Date                  0\n",
      "Account_Type          0\n",
      "Branch                0\n",
      "Transaction_Type      0\n",
      "Transaction_Amount    0\n",
      "Account_Balance       0\n",
      "dtype: int64\n"
     ]
    }
   ],
   "source": [
    "import pandas as pd\n",
    "from io import StringIO\n",
    "\n",
    "# Your data as a CSV string\n",
    "data = \"\"\"\n",
    "Date,Account_Type,Branch,Transaction_Type,Transaction_Amount,Account_Balance\n",
    "2023-01-19,Fixed Deposit,Central,Loan Payment,985.51,6839.59\n",
    "2023-01-16,Current,Uptown,Withdrawal,641.43,8908.39\n",
    "2023-01-10,Current,Uptown,Loan Payment,3363.85,12428.67\n",
    "2023-01-18,Savings,Uptown,Loan Payment,1914.6,5776.63\n",
    "2023-01-14,Recurring Deposit,Suburban,Loan Payment,2788.57,4779.04\n",
    "2023-01-06,Current,Suburban,Service Charge,4584.05,7635.47\n",
    "2023-01-04,Recurring Deposit,Central,Service Charge,1621.82,6465.79\n",
    "2023-01-09,Current,Central,Loan Payment,2346.72,10708.85\n",
    "2023-01-20,Recurring Deposit,Downtown,Service Charge,3899.98,12646.56\n",
    "2023-01-11,Fixed Deposit,Downtown,Deposit,1529.59,2592.16\n",
    "2023-01-13,Recurring Deposit,Central,Deposit,846.41,6443.14\n",
    "2023-01-08,Fixed Deposit,Suburban,Service Charge,1803.88,6560.58\n",
    "2023-01-15,Fixed Deposit,Uptown,Service Charge,1225.5,4224.47\n",
    "2023-01-05,Recurring Deposit,Central,Loan Payment,4683.64,6762.43\n",
    "2023-01-01,Fixed Deposit,Downtown,Withdrawal,4136.54,8175.08\n",
    "2023-01-03,Savings,Suburban,Service Charge,3350.32,12836.51\n",
    "2023-01-02,Fixed Deposit,Central,Deposit,4421.57,8330.4\n",
    "2023-01-07,Current,Central,Loan Payment,4116.52,9785.64\n",
    "2023-01-12,Recurring Deposit,Suburban,Service Charge,1339.57,8666.74\n",
    "2023-01-17,Savings,Central,Deposit,4516.52,8789.19\n",
    "\"\"\"\n",
    "\n",
    "# Use StringIO to simulate reading from a file\n",
    "data_df = pd.read_csv(StringIO(data))\n",
    "\n",
    "# Display the first 5 rows of the dataset\n",
    "print(\"First 5 rows of the dataset:\")\n",
    "print(data_df.head())\n",
    "\n",
    "# Generate basic statistics for numerical columns\n",
    "print(\"\\nBasic statistics for numerical columns:\")\n",
    "print(data_df.describe())\n",
    "\n",
    "# Check for missing values in the dataset\n",
    "print(\"\\nMissing values in the dataset:\")\n",
    "print(data_df.isnull().sum())\n"
   ]
  },
  {
   "cell_type": "code",
   "execution_count": null,
   "id": "87019ace-5434-4740-b4de-73967c631cd1",
   "metadata": {},
   "outputs": [],
   "source": []
  }
 ],
 "metadata": {
  "kernelspec": {
   "display_name": "Python 3 (ipykernel)",
   "language": "python",
   "name": "python3"
  },
  "language_info": {
   "codemirror_mode": {
    "name": "ipython",
    "version": 3
   },
   "file_extension": ".py",
   "mimetype": "text/x-python",
   "name": "python",
   "nbconvert_exporter": "python",
   "pygments_lexer": "ipython3",
   "version": "3.12.7"
  }
 },
 "nbformat": 4,
 "nbformat_minor": 5
}
